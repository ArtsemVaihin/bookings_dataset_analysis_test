{
 "cells": [
  {
   "cell_type": "code",
   "execution_count": 4,
   "id": "f9b8ee5a",
   "metadata": {},
   "outputs": [],
   "source": [
    "def change_columns(x):\n",
    "    return x.rename(columns={col: col.lower().replace(' ', '_') for col in x.columns})"
   ]
  },
  {
   "cell_type": "code",
   "execution_count": null,
   "id": "660dd7b7",
   "metadata": {},
   "outputs": [],
   "source": []
  },
  {
   "cell_type": "code",
   "execution_count": 3,
   "id": "39872d3e",
   "metadata": {},
   "outputs": [],
   "source": []
  },
  {
   "cell_type": "code",
   "execution_count": null,
   "id": "9802c854",
   "metadata": {},
   "outputs": [],
   "source": []
  }
 ],
 "metadata": {
  "kernelspec": {
   "display_name": "Python 3 (ipykernel)",
   "language": "python",
   "name": "python3"
  },
  "language_info": {
   "codemirror_mode": {
    "name": "ipython",
    "version": 3
   },
   "file_extension": ".py",
   "mimetype": "text/x-python",
   "name": "python",
   "nbconvert_exporter": "python",
   "pygments_lexer": "ipython3",
   "version": "3.9.12"
  }
 },
 "nbformat": 4,
 "nbformat_minor": 5
}
